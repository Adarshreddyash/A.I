{
  "nbformat": 4,
  "nbformat_minor": 0,
  "metadata": {
    "colab": {
      "name": "classification.ipynb",
      "version": "0.3.2",
      "provenance": [],
      "include_colab_link": true
    },
    "kernelspec": {
      "name": "python3",
      "display_name": "Python 3"
    }
  },
  "cells": [
    {
      "cell_type": "markdown",
      "metadata": {
        "id": "view-in-github",
        "colab_type": "text"
      },
      "source": [
        "<a href=\"https://colab.research.google.com/github/Adarshreddyash/A.I/blob/master/classification.ipynb\" target=\"_parent\"><img src=\"https://colab.research.google.com/assets/colab-badge.svg\" alt=\"Open In Colab\"/></a>"
      ]
    },
    {
      "cell_type": "code",
      "metadata": {
        "id": "V2yTKUceMVsK",
        "colab_type": "code",
        "outputId": "35cfab3e-3313-4a66-a975-58fc19d52587",
        "colab": {
          "base_uri": "https://localhost:8080/",
          "height": 34
        }
      },
      "source": [
        "from sklearn.datasets import fetch_openml\n",
        "mnist = fetch_openml('mnist_784', version=1) #mnist dataset of handwritten digits\n",
        "mnist.keys()"
      ],
      "execution_count": 2,
      "outputs": [
        {
          "output_type": "execute_result",
          "data": {
            "text/plain": [
              "dict_keys(['data', 'target', 'feature_names', 'DESCR', 'details', 'categories', 'url'])"
            ]
          },
          "metadata": {
            "tags": []
          },
          "execution_count": 2
        }
      ]
    },
    {
      "cell_type": "code",
      "metadata": {
        "id": "93w-4MVlMlIb",
        "colab_type": "code",
        "outputId": "fc15b64b-305c-41aa-b7c6-c7c02bd5dd87",
        "colab": {
          "base_uri": "https://localhost:8080/",
          "height": 34
        }
      },
      "source": [
        "X,y=mnist[\"data\"] ,mnist[\"target\"]\n",
        "\n",
        "X.shape\n",
        "\n",
        "#y.shape"
      ],
      "execution_count": 41,
      "outputs": [
        {
          "output_type": "execute_result",
          "data": {
            "text/plain": [
              "(70000, 784)"
            ]
          },
          "metadata": {
            "tags": []
          },
          "execution_count": 41
        }
      ]
    },
    {
      "cell_type": "code",
      "metadata": {
        "id": "7UFxeirYNL0W",
        "colab_type": "code",
        "outputId": "87de9df3-6df5-41f3-ad9f-6ef5f4e8017d",
        "colab": {
          "base_uri": "https://localhost:8080/",
          "height": 269
        }
      },
      "source": [
        "import matplotlib as mpl\n",
        "\n",
        "import matplotlib.pyplot as plt\n",
        "\n",
        "import numpy as np\n",
        "\n",
        "some_digit = X[0]\n",
        "\n",
        "some_digit_image = some_digit.reshape(28 , 28)\n",
        "\n",
        "plt.imshow(some_digit_image , cmap= mpl.cm.binary , interpolation=\"nearest\")\n",
        "\n",
        "plt.axis() # plt.axis(\"off\")  to remove axis\n",
        "plt.show()\n",
        "\n",
        "# y[0] integer value\n",
        "y = y.astype(np.uint8) #casting y values to numbers"
      ],
      "execution_count": 42,
      "outputs": [
        {
          "output_type": "display_data",
          "data": {
            "image/png": "[encoded data removed]",
            "text/plain": [
              "<Figure size 432x288 with 1 Axes>"
            ]
          },
          "metadata": {
            "tags": []
          }
        }
      ]
    },
    {
      "cell_type": "code",
      "metadata": {
        "id": "OYb88qgHRTa3",
        "colab_type": "code",
        "colab": {
          "base_uri": "https://localhost:8080/",
          "height": 34
        },
        "outputId": "2ad6b95e-c08e-46a6-c8b8-b9cb5eccf09d"
      },
      "source": [
        "X_train, X_test, y_train, y_test = X[:60000], X[60000:], y[:60000], y[60000:]\n",
        "y_train5 = (y_train == 5)\n",
        "y_test5 =  (y_test == 5)\n",
        "\n",
        "from sklearn.linear_model import SGDClassifier\n",
        "\n",
        "sgd_clf = SGDClassifier(random_state = 42)\n",
        "sgd_clf.fit(X_train , y_train5)\n",
        "\n",
        "sgd_clf.predict([some_digit]) #checking whether it is 5 or not test it using [X[1]] that must give false\n"
      ],
      "execution_count": 43,
      "outputs": [
        {
          "output_type": "execute_result",
          "data": {
            "text/plain": [
              "array([ True])"
            ]
          },
          "metadata": {
            "tags": []
          },
          "execution_count": 43
        }
      ]
    },
    {
      "cell_type": "code",
      "metadata": {
        "id": "Oez5olJA3X2D",
        "colab_type": "code",
        "colab": {
          "base_uri": "https://localhost:8080/",
          "height": 68
        },
        "outputId": "d69f2d56-4907-45d8-a196-6114f4bf6648"
      },
      "source": [
        "#this section is similar to \n",
        "#from sklearn.model_selection import cross_val_score\n",
        "#cross_val_score(sgd_clf, X_train, y_train5, cv=3, scoring=\"accuracy\")\n",
        "\n",
        "\n",
        "from sklearn.model_selection import StratifiedKFold\n",
        "from sklearn.base import clone\n",
        "\n",
        "skfolds = StratifiedKFold(n_splits=3 , random_state= 42)\n",
        "\n",
        "for train_index , test_index in skfolds.split(X_train , y_train5):\n",
        "  clone_clf = clone(sgd_clf)\n",
        "  X_train_folds = X_train[train_index]\n",
        "  y_train_folds = y_train5[train_index]\n",
        "  X_test_folds = X_train[test_index]\n",
        "  y_test_folds = y_train5[test_index]\n",
        "  \n",
        "  clone_clf.fit(X_train_folds , y_train_folds)\n",
        "  y_pred = clone_clf.predict(X_test_folds)\n",
        "  n_correct = sum(y_pred == y_test_folds)\n",
        "  print(n_correct / len(y_pred))"
      ],
      "execution_count": 47,
      "outputs": [
        {
          "output_type": "stream",
          "text": [
            "0.95035\n",
            "0.96035\n",
            "0.9604\n"
          ],
          "name": "stdout"
        }
      ]
    },
    {
      "cell_type": "code",
      "metadata": {
        "id": "TI9ZzndrEtW6",
        "colab_type": "code",
        "colab": {
          "base_uri": "https://localhost:8080/",
          "height": 51
        },
        "outputId": "a4fdd206-5f90-4854-f70a-38429c82cf7f"
      },
      "source": [
        "from sklearn.model_selection import cross_val_predict \n",
        "from sklearn.metrics import confusion_matrix\n",
        "\n",
        "y_train_pred = cross_val_predict(sgd_clf , X_train ,y_train5 , cv=3)\n",
        "confusion_matrix(y_train5 , y_train_pred)\n",
        "\n"
      ],
      "execution_count": 56,
      "outputs": [
        {
          "output_type": "execute_result",
          "data": {
            "text/plain": [
              "array([[53892,   687],\n",
              "       [ 1891,  3530]])"
            ]
          },
          "metadata": {
            "tags": []
          },
          "execution_count": 56
        }
      ]
    },
    {
      "cell_type": "code",
      "metadata": {
        "id": "T9LmQwxISr6K",
        "colab_type": "code",
        "colab": {
          "base_uri": "https://localhost:8080/",
          "height": 34
        },
        "outputId": "f76844f8-0cb5-4c7e-b224-3e0a829ac1fc"
      },
      "source": [
        "from sklearn.metrics import precision_score ,recall_score\n",
        "\n",
        "precision_score(y_train5 , y_train_pred)"
      ],
      "execution_count": 60,
      "outputs": [
        {
          "output_type": "execute_result",
          "data": {
            "text/plain": [
              "0.8370879772350012"
            ]
          },
          "metadata": {
            "tags": []
          },
          "execution_count": 60
        }
      ]
    },
    {
      "cell_type": "code",
      "metadata": {
        "id": "8VEZKdskUUG1",
        "colab_type": "code",
        "colab": {
          "base_uri": "https://localhost:8080/",
          "height": 34
        },
        "outputId": "e719ac56-db0c-450a-81b2-c391f01dc008"
      },
      "source": [
        "recall_score(y_train5 , y_train_pred)"
      ],
      "execution_count": 62,
      "outputs": [
        {
          "output_type": "execute_result",
          "data": {
            "text/plain": [
              "0.6511713705958311"
            ]
          },
          "metadata": {
            "tags": []
          },
          "execution_count": 62
        }
      ]
    }
  ]
}