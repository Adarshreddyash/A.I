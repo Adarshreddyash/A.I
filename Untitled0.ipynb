{
  "nbformat": 4,
  "nbformat_minor": 0,
  "metadata": {
    "colab": {
      "name": "Untitled0.ipynb",
      "version": "0.3.2",
      "provenance": [],
      "collapsed_sections": []
    },
    "kernelspec": {
      "name": "python3",
      "display_name": "Python 3"
    }
  },
  "cells": [
    {
      "metadata": {
        "id": "Kyjbg8dU6ilB",
        "colab_type": "code",
        "colab": {
          "base_uri": "https://localhost:8080/",
          "height": 34
        },
        "outputId": "d7405056-cec3-4907-c8e5-03fddf581214"
      },
      "cell_type": "code",
      "source": [
        "import numpy as np\n",
        "np.random.random()\n"
      ],
      "execution_count": 1,
      "outputs": [
        {
          "output_type": "execute_result",
          "data": {
            "text/plain": [
              "0.8688415264163827"
            ]
          },
          "metadata": {
            "tags": []
          },
          "execution_count": 1
        }
      ]
    },
    {
      "metadata": {
        "id": "x6DebhBJ74eT",
        "colab_type": "code",
        "colab": {}
      },
      "cell_type": "code",
      "source": [
        ""
      ],
      "execution_count": 0,
      "outputs": []
    },
    {
      "metadata": {
        "id": "0JMqxYKLcZEA",
        "colab_type": "code",
        "colab": {
          "base_uri": "https://localhost:8080/",
          "height": 34
        },
        "outputId": "8d4a2f1d-85ab-4cf6-9e64-107513bdbfee"
      },
      "cell_type": "code",
      "source": [
        "import tensorflow as tf\n",
        "message=tf.constant(\"hai adarsh\")\n",
        "with tf.Session() as sess:\n",
        "  print(sess.run(message).decode())\n"
      ],
      "execution_count": 3,
      "outputs": [
        {
          "output_type": "stream",
          "text": [
            "hai adarsh\n"
          ],
          "name": "stdout"
        }
      ]
    },
    {
      "metadata": {
        "id": "8p00wy_t9OU9",
        "colab_type": "code",
        "colab": {
          "base_uri": "https://localhost:8080/",
          "height": 34
        },
        "outputId": "17e08aff-489c-4988-ecf6-b2f013c4b535"
      },
      "cell_type": "code",
      "source": [
        "import tensorflow as tf\n",
        "\n",
        "vector=tf.constant([[6,5,3]], dtype=tf.float32)\n",
        "eucnorm =tf.norm(vector , ord=\"euclidean\")\n",
        "\n",
        "with tf.Session() as sess:\n",
        "  print(sess.run(eucnorm))"
      ],
      "execution_count": 3,
      "outputs": [
        {
          "output_type": "stream",
          "text": [
            "8.3666\n"
          ],
          "name": "stdout"
        }
      ]
    },
    {
      "metadata": {
        "id": "6Ng6KY0S_W7j",
        "colab_type": "code",
        "colab": {
          "base_uri": "https://localhost:8080/",
          "height": 139
        },
        "outputId": "9615f18d-e9a3-44bb-d26d-e1b7f8544e97"
      },
      "cell_type": "code",
      "source": [
        "import tensorflow as tf\n",
        "import numpy as np\n",
        "\n",
        "matrix1= [[1,2.0,3] , [3,4,5.0]]\n",
        "matrix2 = np.array([[1,2.0,3] , [3,4,5.0]] , dtype = np.float32)\n",
        "matrix3 = tf.constant([[1,2.0,3] , [3,4,5.0]])\n",
        "\n",
        "print(type(matrix1))\n",
        "print(type(matrix2))\n",
        "print(type(matrix3))\n",
        "\n",
        "v=tf.convert_to_tensor(matrix1, dtype=tf.float32)\n",
        "c=tf.convert_to_tensor(matrix2,dtype=tf.float32)\n",
        "d=tf.convert_to_tensor(matrix3,dtype=tf.float32)\n",
        "\n",
        "print(type(v))\n",
        "print(type(c))\n",
        "print(type(d))"
      ],
      "execution_count": 11,
      "outputs": [
        {
          "output_type": "stream",
          "text": [
            "<class 'list'>\n",
            "<class 'numpy.ndarray'>\n",
            "<class 'tensorflow.python.framework.ops.Tensor'>\n",
            "<class 'tensorflow.python.framework.ops.Tensor'>\n",
            "<class 'tensorflow.python.framework.ops.Tensor'>\n",
            "<class 'tensorflow.python.framework.ops.Tensor'>\n"
          ],
          "name": "stdout"
        }
      ]
    },
    {
      "metadata": {
        "id": "mwWa9eMqdAP_",
        "colab_type": "code",
        "colab": {
          "base_uri": "https://localhost:8080/",
          "height": 218
        },
        "outputId": "f54cfb76-cd7e-43aa-ff48-d4d332e6c0ef"
      },
      "cell_type": "code",
      "source": [
        "import numpy as np\n",
        "\n",
        "np.int8(z)"
      ],
      "execution_count": 13,
      "outputs": [
        {
          "output_type": "error",
          "ename": "NameError",
          "evalue": "ignored",
          "traceback": [
            "\u001b[0;31m---------------------------------------------------------------------------\u001b[0m",
            "\u001b[0;31mNameError\u001b[0m                                 Traceback (most recent call last)",
            "\u001b[0;32m<ipython-input-13-9ff5bc22ce9e>\u001b[0m in \u001b[0;36m<module>\u001b[0;34m()\u001b[0m\n\u001b[1;32m      1\u001b[0m \u001b[0;32mimport\u001b[0m \u001b[0mnumpy\u001b[0m \u001b[0;32mas\u001b[0m \u001b[0mnp\u001b[0m\u001b[0;34m\u001b[0m\u001b[0m\n\u001b[1;32m      2\u001b[0m \u001b[0;34m\u001b[0m\u001b[0m\n\u001b[0;32m----> 3\u001b[0;31m \u001b[0mnp\u001b[0m\u001b[0;34m.\u001b[0m\u001b[0mint8\u001b[0m\u001b[0;34m(\u001b[0m\u001b[0mz\u001b[0m\u001b[0;34m)\u001b[0m\u001b[0;34m\u001b[0m\u001b[0m\n\u001b[0m",
            "\u001b[0;31mNameError\u001b[0m: name 'z' is not defined"
          ]
        }
      ]
    },
    {
      "metadata": {
        "id": "yn-FXttcCVUX",
        "colab_type": "code",
        "colab": {
          "base_uri": "https://localhost:8080/",
          "height": 241
        },
        "outputId": "7ca16d79-d444-463b-f693-55d2dbb74f08"
      },
      "cell_type": "code",
      "source": [
        "import tensorflow as tf\n",
        "\n",
        "d= tf.eye(12,12)\n",
        "\n",
        "with tf.Session() as sess:\n",
        "  print(sess.run(d))"
      ],
      "execution_count": 6,
      "outputs": [
        {
          "output_type": "stream",
          "text": [
            "[[1. 0. 0. 0. 0. 0. 0. 0. 0. 0. 0. 0.]\n",
            " [0. 1. 0. 0. 0. 0. 0. 0. 0. 0. 0. 0.]\n",
            " [0. 0. 1. 0. 0. 0. 0. 0. 0. 0. 0. 0.]\n",
            " [0. 0. 0. 1. 0. 0. 0. 0. 0. 0. 0. 0.]\n",
            " [0. 0. 0. 0. 1. 0. 0. 0. 0. 0. 0. 0.]\n",
            " [0. 0. 0. 0. 0. 1. 0. 0. 0. 0. 0. 0.]\n",
            " [0. 0. 0. 0. 0. 0. 1. 0. 0. 0. 0. 0.]\n",
            " [0. 0. 0. 0. 0. 0. 0. 1. 0. 0. 0. 0.]\n",
            " [0. 0. 0. 0. 0. 0. 0. 0. 1. 0. 0. 0.]\n",
            " [0. 0. 0. 0. 0. 0. 0. 0. 0. 1. 0. 0.]\n",
            " [0. 0. 0. 0. 0. 0. 0. 0. 0. 0. 1. 0.]\n",
            " [0. 0. 0. 0. 0. 0. 0. 0. 0. 0. 0. 1.]]\n"
          ],
          "name": "stdout"
        }
      ]
    },
    {
      "metadata": {
        "id": "EyoWa5bvVL4P",
        "colab_type": "code",
        "colab": {
          "base_uri": "https://localhost:8080/",
          "height": 150
        },
        "outputId": "128b45a6-7a80-465c-ed9d-51adcec922c6"
      },
      "cell_type": "code",
      "source": [
        "import tensorflow as tf\n",
        "import numpy as np\n",
        "import matplotlib.pyplot as plt\n",
        "\n",
        "path =\"/neuralnetwork-programming/ch0/plots\"\n",
        "\n",
        "text = [\"I\" , \"like\" , \"deep\" , \"learning \" , \"adarsh\" , \".\"]\n",
        "\n",
        "xmat =([[0,1,2,3,4,5]\n",
        "[1,3,5,6,7,8]\n",
        "[2,5,3,5,6,7]\n",
        "[5,6,7,8,2,1]\n",
        "[4,6,7,8,1,9]\n",
        "[1,7,3,4,5,6]] , dtype = np.float32)\n",
        "\n",
        "xten=tf.convert_to_tensor(xmat,dtype = tf.float32)\n",
        "with tf.Session() as sess:\n",
        "  s,U,Vh =sess.run(tf.svd(xten , full_matrices=false))\n",
        "\n",
        "for i in range(len(text)):\n",
        "  plts.text(U[i,0],U[i,1],text[i])\n",
        "\n",
        "plts.ylim(-0.8,0.8)\n",
        "plts.xlim(-0.8,2.0)\n",
        "plts.savefig(path + '/svdtf_png')"
      ],
      "execution_count": 9,
      "outputs": [
        {
          "output_type": "error",
          "ename": "SyntaxError",
          "evalue": "ignored",
          "traceback": [
            "\u001b[0;36m  File \u001b[0;32m\"<ipython-input-9-637509b543ad>\"\u001b[0;36m, line \u001b[0;32m14\u001b[0m\n\u001b[0;31m    [1,7,3,4,5,6]] , dtype =np.float32)\u001b[0m\n\u001b[0m                           ^\u001b[0m\n\u001b[0;31mSyntaxError\u001b[0m\u001b[0;31m:\u001b[0m invalid syntax\n"
          ]
        }
      ]
    },
    {
      "metadata": {
        "id": "fWaLGkFw1XVl",
        "colab_type": "code",
        "colab": {
          "base_uri": "https://localhost:8080/",
          "height": 367
        },
        "outputId": "8fe254af-87aa-4f0e-c9fa-4a984992998a"
      },
      "cell_type": "code",
      "source": [
        "import numpy as np\n",
        "import tensorflow as tf\n",
        "import matplotlib.pyplot as plt\n",
        "import seaborn\n",
        "\n",
        "xdata=np.arange(300,step=.1)\n",
        "ydata = xdata+ 20*np.sin(xdata/10)\n",
        "\n",
        "plt.scatter(xdata,ydata)\n",
        "plt.show()\n",
        "\n",
        "nsamples=1000\n",
        "batchsize=100\n",
        "\n",
        "\n",
        "np.reshape(xdata,(nsamples,1))\n",
        "np.reshape(ydata,(nsamples,1))\n",
        "\n",
        "#input placeholders\n",
        "\n",
        "tf.placeholder"
      ],
      "execution_count": 7,
      "outputs": [
        {
          "output_type": "display_data",
          "data": {
            "image/png": "[encoded data removed]",
            "text/plain": [
              "<matplotlib.figure.Figure at 0x7f20106189e8>"
            ]
          },
          "metadata": {
            "tags": []
          }
        }
      ]
    },
    {
      "metadata": {
        "id": "PF7bPudm76hp",
        "colab_type": "code",
        "colab": {
          "base_uri": "https://localhost:8080/",
          "height": 150
        },
        "outputId": "fdbd3f34-ea47-4b42-af4d-6b6a4a7bb43b"
      },
      "cell_type": "code",
      "source": [
        "import tensorflow as tf \n",
        "from tensorflow.examples.tutorials.mnist import input_data\n",
        "mnist=input_data.read_data_sets(\"/tmp/data/\",one_hot=True)\n",
        "\n",
        "n_nodes_hl1=500\n",
        "n_nodes_hl2=500\n",
        "n_nodes_hl3=500\n",
        "n_classes=10\n",
        "batch_size=100\n",
        "\n",
        "x=tf.placeholder('float' , [None , 783])\n",
        "y=tf.placeholder('float')\n",
        "\n",
        "def neural_network_model(data):\n",
        "  hidden_1_layer ={'weights':tf.Variable(tf.random_normal([783,n_nodes_hl1]))\n",
        "                   'biases':tf.Variable(tf.random_normal([n_nodes_hl1]))}\n",
        "  \n",
        "  hidden_2_layer={'weights':tf.Variable(tf.random_normal([n_nodes_hl1,n_nodes_hl2]))\n",
        "                  'biases':tf.Variable(tf.random_normal([n_nodes_hl2]))}\n",
        "\n",
        "  hidden_3_layer={'weights':tf.Variable(tf.random_normal([n_nodes_hl2, n_nodes_hl3]))\n",
        "                  'biases':tf.Variable(tf.random_normal([n_nodes_hl3]))}\n",
        "  Output_layer={'weights':tf.Variable(tf.random_normal([n_nodes_hl3 , n_classes]))\n",
        "                'biases':tf.Variable(tf.random_normal([n_classes]))}\n",
        "\n",
        "l1 =tf.add(tf.matmul(data ,hidden_1_layer['weights']),hidden_1_layer['biases'])\n",
        "l1=tf.nn.relu(l1)\n",
        "\n",
        "l2 = tf.add(tf.matmul(l1,hidden_2_layer['weights']) , hidden_2_layer['biases'] )\n",
        "l2 = tf.nn.relu(l2)\n",
        "\n",
        "l3 = tf.add(tf.matmul(l2,hidden_3_layer['weights']) , hidden_3_layer['biases'])\n",
        "l3 = tf.nn.relu(l3)\n",
        "\n",
        "output = tf.add(tf.matmul(l3,Output_layer['weights']) + Output_layer['biases'])\n",
        "\n",
        "return output\n",
        "\n"
      ],
      "execution_count": 6,
      "outputs": [
        {
          "output_type": "error",
          "ename": "SyntaxError",
          "evalue": "ignored",
          "traceback": [
            "\u001b[0;36m  File \u001b[0;32m\"<ipython-input-6-156c6844262a>\"\u001b[0;36m, line \u001b[0;32m16\u001b[0m\n\u001b[0;31m    'biases':tf.Variable(tf.random_normal([n_nodes_hl1]))}\u001b[0m\n\u001b[0m           ^\u001b[0m\n\u001b[0;31mSyntaxError\u001b[0m\u001b[0;31m:\u001b[0m invalid syntax\n"
          ]
        }
      ]
    },
    {
      "metadata": {
        "id": "s3iMJAaXneKm",
        "colab_type": "code",
        "colab": {}
      },
      "cell_type": "code",
      "source": [
        "import tensorflow as tf\n",
        "from tensorflow.examples.tutorials.mnist import input_data\n",
        "mnist = input_data.read_data_sets(\"/tmp/data/\", one_hot = True)\n",
        "\n",
        "n_nodes_hl1 = 500\n",
        "n_nodes_hl2 = 500\n",
        "n_nodes_hl3 = 500\n",
        "\n",
        "n_classes = 10\n",
        "batch_size = 100\n",
        "\n",
        "x = tf.placeholder('float', [None, 784])\n",
        "y = tf.placeholder('float')\n",
        "\n",
        "def neural_network_model(data):\n",
        "    hidden_1_layer = {'weights':tf.Variable(tf.random_normal([784, n_nodes_hl1])),\n",
        "                      'biases':tf.Variable(tf.random_normal([n_nodes_hl1]))}\n",
        "\n",
        "    hidden_2_layer = {'weights':tf.Variable(tf.random_normal([n_nodes_hl1, n_nodes_hl2])),\n",
        "                      'biases':tf.Variable(tf.random_normal([n_nodes_hl2]))}\n",
        "\n",
        "    hidden_3_layer = {'weights':tf.Variable(tf.random_normal([n_nodes_hl2, n_nodes_hl3])),\n",
        "                      'biases':tf.Variable(tf.random_normal([n_nodes_hl3]))}\n",
        "\n",
        "    output_layer = {'weights':tf.Variable(tf.random_normal([n_nodes_hl3, n_classes])),\n",
        "                    'biases':tf.Variable(tf.random_normal([n_classes])),}\n",
        "\n",
        "\n",
        "    l1 = tf.add(tf.matmul(data,hidden_1_layer['weights']), hidden_1_layer['biases'])\n",
        "    l1 = tf.nn.relu(l1)\n",
        "\n",
        "    l2 = tf.add(tf.matmul(l1,hidden_2_layer['weights']), hidden_2_layer['biases'])\n",
        "    l2 = tf.nn.relu(l2)\n",
        "\n",
        "    l3 = tf.add(tf.matmul(l2,hidden_3_layer['weights']), hidden_3_layer['biases'])\n",
        "    l3 = tf.nn.relu(l3)\n",
        "\n",
        "    output = tf.matmul(l3,output_layer['weights']) + output_layer['biases']\n",
        "\n",
        "    return output\n",
        "\n",
        "def train_neural_network(x):\n",
        "    prediction = neural_network_model(x)\n",
        "    # OLD VERSION:\n",
        "    #cost = tf.reduce_mean( tf.nn.softmax_cross_entropy_with_logits(prediction,y) )\n",
        "    # NEW:\n",
        "    cost = tf.reduce_mean( tf.nn.softmax_cross_entropy_with_logits(logits=prediction, labels=y) )\n",
        "    optimizer = tf.train.AdamOptimizer().minimize(cost)\n",
        "    hm_epochs = 12\n",
        "    with tf.Session() as sess:\n",
        "        # OLD:\n",
        "        #sess.run(tf.initialize_all_variables())\n",
        "        # NEW:\n",
        "        sess.run(tf.global_variables_initializer())\n",
        "\n",
        "        for epoch in range(hm_epochs):\n",
        "            epoch_loss = 0\n",
        "            for _ in range(int(mnist.train.num_examples/batch_size)):\n",
        "                epoch_x, epoch_y = mnist.train.next_batch(batch_size)\n",
        "                _, c = sess.run([optimizer, cost], feed_dict={x: epoch_x, y: epoch_y})\n",
        "                epoch_loss += c\n",
        "\n",
        "            print('Epoch', epoch, 'completed out of',hm_epochs,'loss:',epoch_loss)\n",
        "\n",
        "        correct = tf.equal(tf.argmax(prediction, 1), tf.argmax(y, 1))\n",
        "\n",
        "        accuracy = tf.reduce_mean(tf.cast(correct, 'float'))\n",
        "        print('Accuracy:',accuracy.eval({x:mnist.test.images, y:mnist.test.labels}))\n",
        "\n",
        "train_neural_network(x)\n"
      ],
      "execution_count": 0,
      "outputs": []
    }
  ]
}