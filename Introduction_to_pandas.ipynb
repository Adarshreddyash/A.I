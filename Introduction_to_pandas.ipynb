{
  "nbformat": 4,
  "nbformat_minor": 0,
  "metadata": {
    "colab": {
      "name": "Introduction to pandas.ipynb",
      "version": "0.3.2",
      "provenance": [],
      "collapsed_sections": []
    },
    "kernelspec": {
      "name": "python3",
      "display_name": "Python 3"
    }
  },
  "cells": [
    {
      "metadata": {
        "id": "ilalnOxF26nA",
        "colab_type": "text"
      },
      "cell_type": "markdown",
      "source": [
        "## Introduction to pandas\n",
        "\n",
        "Library for computation with \n",
        "tabular \n",
        "data\n",
        " Mixed types of data allowed in a single \n",
        "table\n",
        " Columns and rows of data can be named\n",
        " Advanced data aggregation and \n",
        "statistical functions"
      ]
    },
    {
      "metadata": {
        "id": "x4DL4P-c3Tsu",
        "colab_type": "code",
        "colab": {}
      },
      "cell_type": "code",
      "source": [
        "import pandas as pd\n",
        "import numpy as np\n",
        "\n",
        "\n",
        "#basic import for pandas"
      ],
      "execution_count": 0,
      "outputs": []
    },
    {
      "metadata": {
        "id": "28sS1BCWuW1w",
        "colab_type": "text"
      },
      "cell_type": "markdown",
      "source": [
        "# **Series¶**\n",
        "Series is a one-dimensional labeled array capable of holding any data type (integers, strings, floating point numbers, Python objects, etc.). The axis labels are collectively referred to as the index. The basic method to create a Series is to call:"
      ]
    },
    {
      "metadata": {
        "id": "AuRQtZqvuVhY",
        "colab_type": "code",
        "colab": {
          "base_uri": "https://localhost:8080/",
          "height": 136
        },
        "outputId": "13a79e12-4208-422b-d8af-9a76e3519170"
      },
      "cell_type": "code",
      "source": [
        "\n",
        "#>>> s = pd.Series(data, index=index)\n",
        "\n",
        "#Here, data can be many different things:\n",
        "\n",
        "# a Python dict\n",
        "# an ndarray\n",
        "# a scalar value (like 5)\n",
        "\n",
        "s = pd.Series([1,3,5,np.nan,6,8])\n",
        "print(s)\n"
      ],
      "execution_count": 6,
      "outputs": [
        {
          "output_type": "stream",
          "text": [
            "0    1.0\n",
            "1    3.0\n",
            "2    5.0\n",
            "3    NaN\n",
            "4    6.0\n",
            "5    8.0\n",
            "dtype: float64\n"
          ],
          "name": "stdout"
        }
      ]
    },
    {
      "metadata": {
        "id": "PYLbIvJxxjtG",
        "colab_type": "text"
      },
      "cell_type": "markdown",
      "source": [
        "**Dataframe**\n",
        "class pandas.DataFrame(data=None, index=None, columns=None, dtype=None, copy=False)\n",
        "\n",
        "\n",
        "\n",
        "\n",
        "Two-dimensional size-mutable, potentially heterogeneous tabular data structure with labeled axes (rows and columns). Arithmetic operations align on both row and column labels. Can be thought of as a dict-like container for Series objects. The primary pandas data structure.\n",
        "\n",
        "Parameters:\t\n",
        "data : numpy ndarray (structured or homogeneous), dict, or DataFrame\n",
        "\n",
        "Dict can contain Series, arrays, constants, or list-like objects\n",
        "\n",
        "Changed in version 0.23.0: If data is a dict, argument order is maintained for Python 3.6 and later.\n",
        "\n",
        "index : Index or array-like\n",
        "\n",
        "Index to use for resulting frame. Will default to RangeIndex if no indexing information part of input data and no index provided\n",
        "\n",
        "columns : Index or array-like\n",
        "\n",
        "Column labels to use for resulting frame. Will default to RangeIndex (0, 1, 2, …, n) if no column labels are provided\n",
        "\n",
        "dtype : dtype, default None\n",
        "\n",
        "Data type to force. Only a single dtype is allowed. If None, infer\n",
        "\n",
        "copy : boolean, default False\n",
        "\n",
        "Copy data from inputs. Only affects DataFrame / 2d ndarray input\n",
        "\n",
        "now lets create a dataframe using numpy array"
      ]
    },
    {
      "metadata": {
        "id": "awwVe4N5x5Kh",
        "colab_type": "code",
        "colab": {
          "base_uri": "https://localhost:8080/",
          "height": 139
        },
        "outputId": "5a32ca67-23a2-4e4d-dbc4-b04b182272a6"
      },
      "cell_type": "code",
      "source": [
        "dates = pd.date_range('19991123', periods=18)\n",
        "dates\n"
      ],
      "execution_count": 7,
      "outputs": [
        {
          "output_type": "execute_result",
          "data": {
            "text/plain": [
              "DatetimeIndex(['1999-11-23', '1999-11-24', '1999-11-25', '1999-11-26',\n",
              "               '1999-11-27', '1999-11-28', '1999-11-29', '1999-11-30',\n",
              "               '1999-12-01', '1999-12-02', '1999-12-03', '1999-12-04',\n",
              "               '1999-12-05', '1999-12-06', '1999-12-07', '1999-12-08',\n",
              "               '1999-12-09', '1999-12-10'],\n",
              "              dtype='datetime64[ns]', freq='D')"
            ]
          },
          "metadata": {
            "tags": []
          },
          "execution_count": 7
        }
      ]
    },
    {
      "metadata": {
        "id": "y317Uhf8zPjY",
        "colab_type": "code",
        "colab": {
          "base_uri": "https://localhost:8080/",
          "height": 204
        },
        "outputId": "bc85702f-71b3-4d5f-dc7c-bdf7f99b8b2e"
      },
      "cell_type": "code",
      "source": [
        "df2 = pd.DataFrame(np.random.randint(low=0, high=10, size=(5, 5)),                columns=['a', 'b', 'c', 'd', 'e'])\n",
        "\n",
        "#using numpy random\n",
        "\n",
        "df2"
      ],
      "execution_count": 9,
      "outputs": [
        {
          "output_type": "execute_result",
          "data": {
            "text/html": [
              "<div>\n",
              "<style scoped>\n",
              "    .dataframe tbody tr th:only-of-type {\n",
              "        vertical-align: middle;\n",
              "    }\n",
              "\n",
              "    .dataframe tbody tr th {\n",
              "        vertical-align: top;\n",
              "    }\n",
              "\n",
              "    .dataframe thead th {\n",
              "        text-align: right;\n",
              "    }\n",
              "</style>\n",
              "<table border=\"1\" class=\"dataframe\">\n",
              "  <thead>\n",
              "    <tr style=\"text-align: right;\">\n",
              "      <th></th>\n",
              "      <th>a</th>\n",
              "      <th>b</th>\n",
              "      <th>c</th>\n",
              "      <th>d</th>\n",
              "      <th>e</th>\n",
              "    </tr>\n",
              "  </thead>\n",
              "  <tbody>\n",
              "    <tr>\n",
              "      <th>0</th>\n",
              "      <td>3</td>\n",
              "      <td>8</td>\n",
              "      <td>7</td>\n",
              "      <td>0</td>\n",
              "      <td>1</td>\n",
              "    </tr>\n",
              "    <tr>\n",
              "      <th>1</th>\n",
              "      <td>1</td>\n",
              "      <td>3</td>\n",
              "      <td>4</td>\n",
              "      <td>6</td>\n",
              "      <td>1</td>\n",
              "    </tr>\n",
              "    <tr>\n",
              "      <th>2</th>\n",
              "      <td>3</td>\n",
              "      <td>9</td>\n",
              "      <td>9</td>\n",
              "      <td>9</td>\n",
              "      <td>2</td>\n",
              "    </tr>\n",
              "    <tr>\n",
              "      <th>3</th>\n",
              "      <td>2</td>\n",
              "      <td>0</td>\n",
              "      <td>4</td>\n",
              "      <td>6</td>\n",
              "      <td>6</td>\n",
              "    </tr>\n",
              "    <tr>\n",
              "      <th>4</th>\n",
              "      <td>8</td>\n",
              "      <td>0</td>\n",
              "      <td>8</td>\n",
              "      <td>6</td>\n",
              "      <td>0</td>\n",
              "    </tr>\n",
              "  </tbody>\n",
              "</table>\n",
              "</div>"
            ],
            "text/plain": [
              "   a  b  c  d  e\n",
              "0  3  8  7  0  1\n",
              "1  1  3  4  6  1\n",
              "2  3  9  9  9  2\n",
              "3  2  0  4  6  6\n",
              "4  8  0  8  6  0"
            ]
          },
          "metadata": {
            "tags": []
          },
          "execution_count": 9
        }
      ]
    },
    {
      "metadata": {
        "id": "fP3kUzIez5gH",
        "colab_type": "code",
        "colab": {
          "base_uri": "https://localhost:8080/",
          "height": 258
        },
        "outputId": "a1ca8389-d798-4a32-a84f-fa6f34c7cabf"
      },
      "cell_type": "code",
      "source": [
        "ash = pd.DataFrame(np.random.randn(6,4), columns=list('ABCD'))\n",
        "print(ash)\n",
        "print()\n",
        "ash.dtypes"
      ],
      "execution_count": 16,
      "outputs": [
        {
          "output_type": "stream",
          "text": [
            "          A         B         C         D\n",
            "0  1.410838 -0.968795 -0.542472  1.834626\n",
            "1 -1.467384  0.006920 -2.051159  1.101096\n",
            "2 -0.244505  1.597878 -0.751972  0.459436\n",
            "3  0.257834  0.847664 -1.558660  1.331092\n",
            "4 -0.610350 -0.029297  0.454771 -0.132607\n",
            "5  0.876225 -1.838081 -0.155802 -1.690631\n",
            "\n"
          ],
          "name": "stdout"
        },
        {
          "output_type": "execute_result",
          "data": {
            "text/plain": [
              "A    float64\n",
              "B    float64\n",
              "C    float64\n",
              "D    float64\n",
              "dtype: object"
            ]
          },
          "metadata": {
            "tags": []
          },
          "execution_count": 16
        }
      ]
    },
    {
      "metadata": {
        "id": "XMUKJ-HO2HAy",
        "colab_type": "code",
        "colab": {
          "base_uri": "https://localhost:8080/",
          "height": 241
        },
        "outputId": "643efc1b-9caf-4c2e-cb17-02fb7e8333f3"
      },
      "cell_type": "code",
      "source": [
        "ash= pd.DataFrame({ 'A' : 1.,\n",
        "   ....:                      'B' : pd.Timestamp('19991123'),\n",
        "   ....:                      'C' : pd.Series(1,index=list(range(4)),dtype='float32'),\n",
        "   ....:                      'D' : np.array([3] * 4 ,dtype='int32'),\n",
        "   ....:                      'E' : pd.Categorical([\"test\",\"train\",\"ash\",\"train\"]),\n",
        "   ....:                      'F' : 'foo' })\n",
        "   ....: \n",
        "\n",
        "ash"
      ],
      "execution_count": 26,
      "outputs": [
        {
          "output_type": "execute_result",
          "data": {
            "text/html": [
              "<div>\n",
              "<style scoped>\n",
              "    .dataframe tbody tr th:only-of-type {\n",
              "        vertical-align: middle;\n",
              "    }\n",
              "\n",
              "    .dataframe tbody tr th {\n",
              "        vertical-align: top;\n",
              "    }\n",
              "\n",
              "    .dataframe thead th {\n",
              "        text-align: right;\n",
              "    }\n",
              "</style>\n",
              "<table border=\"1\" class=\"dataframe\">\n",
              "  <thead>\n",
              "    <tr style=\"text-align: right;\">\n",
              "      <th></th>\n",
              "      <th>A</th>\n",
              "      <th>B</th>\n",
              "      <th>C</th>\n",
              "      <th>D</th>\n",
              "      <th>E</th>\n",
              "      <th>F</th>\n",
              "    </tr>\n",
              "  </thead>\n",
              "  <tbody>\n",
              "    <tr>\n",
              "      <th>0</th>\n",
              "      <td>1.0</td>\n",
              "      <td>1999-11-23</td>\n",
              "      <td>1.0</td>\n",
              "      <td>3</td>\n",
              "      <td>test</td>\n",
              "      <td>foo</td>\n",
              "    </tr>\n",
              "    <tr>\n",
              "      <th>1</th>\n",
              "      <td>1.0</td>\n",
              "      <td>1999-11-23</td>\n",
              "      <td>1.0</td>\n",
              "      <td>3</td>\n",
              "      <td>train</td>\n",
              "      <td>foo</td>\n",
              "    </tr>\n",
              "    <tr>\n",
              "      <th>2</th>\n",
              "      <td>1.0</td>\n",
              "      <td>1999-11-23</td>\n",
              "      <td>1.0</td>\n",
              "      <td>3</td>\n",
              "      <td>ash</td>\n",
              "      <td>foo</td>\n",
              "    </tr>\n",
              "    <tr>\n",
              "      <th>3</th>\n",
              "      <td>1.0</td>\n",
              "      <td>1999-11-23</td>\n",
              "      <td>1.0</td>\n",
              "      <td>3</td>\n",
              "      <td>train</td>\n",
              "      <td>foo</td>\n",
              "    </tr>\n",
              "  </tbody>\n",
              "</table>\n",
              "</div>"
            ],
            "text/plain": [
              "     A          B    C  D      E    F\n",
              "0  1.0 1999-11-23  1.0  3   test  foo\n",
              "1  1.0 1999-11-23  1.0  3  train  foo\n",
              "2  1.0 1999-11-23  1.0  3    ash  foo\n",
              "3  1.0 1999-11-23  1.0  3  train  foo"
            ]
          },
          "metadata": {
            "tags": []
          },
          "execution_count": 26
        }
      ]
    },
    {
      "metadata": {
        "id": "aqmVDY9hDB6X",
        "colab_type": "code",
        "colab": {
          "base_uri": "https://localhost:8080/",
          "height": 122
        },
        "outputId": "ce200a15-6749-473b-9775-9b96310ad739"
      },
      "cell_type": "code",
      "source": [
        ""
      ],
      "execution_count": 30,
      "outputs": [
        {
          "output_type": "execute_result",
          "data": {
            "text/plain": [
              "<bound method _arith_method_FRAME.<locals>.f of      A          B    C  D      E    F\n",
              "0  1.0 1999-11-23  1.0  3   test  foo\n",
              "1  1.0 1999-11-23  1.0  3  train  foo\n",
              "2  1.0 1999-11-23  1.0  3    ash  foo\n",
              "3  1.0 1999-11-23  1.0  3  train  foo>"
            ]
          },
          "metadata": {
            "tags": []
          },
          "execution_count": 30
        }
      ]
    }
  ]
}